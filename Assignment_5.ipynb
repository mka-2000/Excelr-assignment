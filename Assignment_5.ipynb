{
  "nbformat": 4,
  "nbformat_minor": 0,
  "metadata": {
    "colab": {
      "provenance": [],
      "authorship_tag": "ABX9TyPr3UxTqLZ+LY5H0uJGuqT7",
      "include_colab_link": true
    },
    "kernelspec": {
      "name": "python3",
      "display_name": "Python 3"
    },
    "language_info": {
      "name": "python"
    }
  },
  "cells": [
    {
      "cell_type": "markdown",
      "metadata": {
        "id": "view-in-github",
        "colab_type": "text"
      },
      "source": [
        "<a href=\"https://colab.research.google.com/github/mka-2000/Excelr-assignment/blob/main/Assignment_5.ipynb\" target=\"_parent\"><img src=\"https://colab.research.google.com/assets/colab-badge.svg\" alt=\"Open In Colab\"/></a>"
      ]
    },
    {
      "cell_type": "code",
      "execution_count": null,
      "metadata": {
        "colab": {
          "base_uri": "https://localhost:8080/"
        },
        "id": "hN5PpUDapm-W",
        "outputId": "b5875ea7-8a40-4d55-a254-c95996ae8a95"
      },
      "outputs": [
        {
          "output_type": "execute_result",
          "data": {
            "text/plain": [
              "78.58"
            ]
          },
          "metadata": {},
          "execution_count": 6
        }
      ],
      "source": [
        "#3) Given : \n",
        "#          n             = 100\n",
        "#          mean          = 50\n",
        "#    standard deviation  = 40\n",
        "#                     x' = sample mean\n",
        "#                     x'1 = 45 (Lower Limit)  and x'2 = 55 (Upper Limit)\n",
        "\n",
        "#  From t Formula \n",
        "\n",
        "# t = (x' - mean)/(standard deviation/sqrt(n))\n",
        "\n",
        "# Plugging in the values , we get Lower Limit  t = - 1.25  and Upper Limit  t = 1.25\n",
        "\n",
        "# Degrees of Freedom (df)  = n-1 = 100-1 = 99 \n",
        "\n",
        "# Probability of no further investigation\n",
        "from scipy import stats\n",
        "\n",
        "a=stats.t.cdf(1.25,df=99) - stats.t.cdf(-1.25,df=99)\n",
        "round(a*100,2)"
      ]
    },
    {
      "cell_type": "code",
      "source": [
        "# Probability of there will be some investigation further .\n",
        "\n",
        "round((1-a)*100,2)"
      ],
      "metadata": {
        "colab": {
          "base_uri": "https://localhost:8080/"
        },
        "id": "PbD3Z1iHp-qV",
        "outputId": "0b9fe797-abcd-4b01-a6a3-981babbc3e4a"
      },
      "execution_count": null,
      "outputs": [
        {
          "output_type": "execute_result",
          "data": {
            "text/plain": [
              "21.42"
            ]
          },
          "metadata": {},
          "execution_count": 7
        }
      ]
    },
    {
      "cell_type": "code",
      "source": [],
      "metadata": {
        "id": "S3fHv9SE0mzw"
      },
      "execution_count": null,
      "outputs": []
    },
    {
      "cell_type": "code",
      "source": [],
      "metadata": {
        "id": "j3Qp2kwa2MdX"
      },
      "execution_count": null,
      "outputs": []
    },
    {
      "cell_type": "code",
      "source": [
        "# Q4)\n",
        "from scipy import stats\n",
        "\n",
        "a=stats.t.cdf(-1.25,df=99) \n",
        "round((a)*0.05,2)"
      ],
      "metadata": {
        "colab": {
          "base_uri": "https://localhost:8080/"
        },
        "id": "6i_v9rie0nA9",
        "outputId": "f9f2a44b-65ca-438e-8d60-83ad487a5413"
      },
      "execution_count": null,
      "outputs": [
        {
          "output_type": "execute_result",
          "data": {
            "text/plain": [
              "0.01"
            ]
          },
          "metadata": {},
          "execution_count": 14
        }
      ]
    },
    {
      "cell_type": "code",
      "source": [
        "(1-a)*0.05*100"
      ],
      "metadata": {
        "colab": {
          "base_uri": "https://localhost:8080/"
        },
        "id": "iiRK2Tp51F95",
        "outputId": "e9a46cf9-8323-47a7-fc06-d4df209d85c6"
      },
      "execution_count": null,
      "outputs": [
        {
          "output_type": "execute_result",
          "data": {
            "text/plain": [
              "4.464384156079034"
            ]
          },
          "metadata": {},
          "execution_count": 16
        }
      ]
    },
    {
      "cell_type": "code",
      "source": [],
      "metadata": {
        "id": "-78Y8wwP1HGm"
      },
      "execution_count": null,
      "outputs": []
    }
  ]
}